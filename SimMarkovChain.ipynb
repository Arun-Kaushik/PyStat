{
  "nbformat": 4,
  "nbformat_minor": 0,
  "metadata": {
    "colab": {
      "provenance": [],
      "authorship_tag": "ABX9TyOtgY7I65RWftEI1zIR67iT",
      "include_colab_link": true
    },
    "kernelspec": {
      "name": "python3",
      "display_name": "Python 3"
    },
    "language_info": {
      "name": "python"
    }
  },
  "cells": [
    {
      "cell_type": "markdown",
      "metadata": {
        "id": "view-in-github",
        "colab_type": "text"
      },
      "source": [
        "<a href=\"https://colab.research.google.com/github/Arun-Kaushik/PyStat/blob/main/SimMarkovChain.ipynb\" target=\"_parent\"><img src=\"https://colab.research.google.com/assets/colab-badge.svg\" alt=\"Open In Colab\"/></a>"
      ]
    },
    {
      "cell_type": "code",
      "source": [
        "!git clone https://github.com/Arun-Kaushik/PyStat.git"
      ],
      "metadata": {
        "id": "UWFnaib1bHv2",
        "outputId": "9c4952f9-f132-4f8c-c92a-cfe03fc0b72d",
        "colab": {
          "base_uri": "https://localhost:8080/"
        }
      },
      "execution_count": 1,
      "outputs": [
        {
          "output_type": "stream",
          "name": "stdout",
          "text": [
            "Cloning into 'PyStat'...\n",
            "remote: Enumerating objects: 13, done.\u001b[K\n",
            "remote: Counting objects: 100% (13/13), done.\u001b[K\n",
            "remote: Compressing objects: 100% (12/12), done.\u001b[K\n",
            "remote: Total 13 (delta 3), reused 0 (delta 0), pack-reused 0\u001b[K\n",
            "Receiving objects: 100% (13/13), 6.81 KiB | 1.14 MiB/s, done.\n",
            "Resolving deltas: 100% (3/3), done.\n"
          ]
        }
      ]
    },
    {
      "cell_type": "code",
      "source": [
        "from PyStat.SimMarkovChain import simulate_markov_chain  # Assuming your module file is named SimMarkovChain.py\n"
      ],
      "metadata": {
        "id": "Qfnmh1IMbZG4"
      },
      "execution_count": 3,
      "outputs": []
    },
    {
      "cell_type": "code",
      "source": [
        "import numpy as np"
      ],
      "metadata": {
        "id": "-RtHhkokcBpZ"
      },
      "execution_count": 5,
      "outputs": []
    },
    {
      "cell_type": "code",
      "source": [
        "# Example usage\n",
        "T = np.array([\n",
        "    [0.4, 0.3, 0.3],\n",
        "    [0.2, 0.5, 0.3],\n",
        "    [0.1, 0.4, 0.5]\n",
        "])\n",
        "\n",
        "# Simulate 10 steps starting from state 1\n",
        "states = simulate_markov_chain(T, 10, start_state=1)\n",
        "\n",
        "# Print the list of visited states\n",
        "print(states)\n"
      ],
      "metadata": {
        "id": "CCQx5YLMXHj5",
        "outputId": "7aa45e7d-bd74-49ab-eefc-26fe396ca4f7",
        "colab": {
          "base_uri": "https://localhost:8080/"
        }
      },
      "execution_count": 6,
      "outputs": [
        {
          "output_type": "stream",
          "name": "stdout",
          "text": [
            "[1, 1, 1, 2, 1, 1, 1, 1, 2, 2, 1]\n"
          ]
        }
      ]
    }
  ]
}
