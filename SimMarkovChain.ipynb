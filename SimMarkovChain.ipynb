{
  "nbformat": 4,
  "nbformat_minor": 0,
  "metadata": {
    "colab": {
      "provenance": [],
      "authorship_tag": "ABX9TyOH4alJfLXTmk1sKjazNzBj",
      "include_colab_link": true
    },
    "kernelspec": {
      "name": "python3",
      "display_name": "Python 3"
    },
    "language_info": {
      "name": "python"
    }
  },
  "cells": [
    {
      "cell_type": "markdown",
      "metadata": {
        "id": "view-in-github",
        "colab_type": "text"
      },
      "source": [
        "<a href=\"https://colab.research.google.com/github/Arun-Kaushik/PyStat/blob/main/SimMarkovChain.ipynb\" target=\"_parent\"><img src=\"https://colab.research.google.com/assets/colab-badge.svg\" alt=\"Open In Colab\"/></a>"
      ]
    },
    {
      "cell_type": "code",
      "execution_count": null,
      "metadata": {
        "id": "kaiCfD7AWkxq"
      },
      "outputs": [],
      "source": [
        "import numpy as np\n",
        "\n",
        "def simulate_markov_chain(T, n_steps, start_state=None):\n",
        "  \"\"\"\n",
        "  Simulates a Markov chain for a given number of steps.\n",
        "\n",
        "  Args:\n",
        "      T: Transition Probability Matrix (numpy array).\n",
        "      n_steps: Number of steps to simulate.\n",
        "      start_state (optional): Index of the starting state. If not provided,\n",
        "          a random state will be chosen.\n",
        "\n",
        "  Returns:\n",
        "      A list of states visited during the simulation.\n",
        "  \"\"\"\n",
        "\n",
        "  # Check if TPM is valid (square matrix and sums to 1 in each row)\n",
        "  if not np.allclose(T.sum(axis=1), 1):\n",
        "    raise ValueError(\"Invalid Transition Probability Matrix. Rows must sum to 1.\")\n",
        "\n",
        "  # Get the number of states\n",
        "  n_states = T.shape[0]\n",
        "\n",
        "  # Choose the starting state\n",
        "  if start_state is None:\n",
        "    current_state = np.random.choice(n_states)\n",
        "  else:\n",
        "    current_state = start_state\n",
        "\n",
        "  # Initialize list to store states\n",
        "  states = [current_state]\n",
        "\n",
        "  # Simulate transitions\n",
        "  for _ in range(n_steps):\n",
        "    # Get transition probabilities for the current state\n",
        "    transition_probs = T[current_state]\n",
        "\n",
        "    # Sample the next state based on transition probabilities\n",
        "    next_state = np.random.choice(n_states, p=transition_probs)\n",
        "\n",
        "    # Update current state and store in list\n",
        "    current_state = next_state\n",
        "    states.append(current_state)\n",
        "\n",
        "  return states\n",
        "\n"
      ]
    },
    {
      "cell_type": "code",
      "source": [
        "# Example usage\n",
        "T = np.array([\n",
        "    [0.4, 0.3, 0.3],\n",
        "    [0.2, 0.5, 0.3],\n",
        "    [0.1, 0.4, 0.5]\n",
        "])\n",
        "\n",
        "# Simulate 10 steps starting from state 1\n",
        "states = simulate_markov_chain(T, 10, start_state=1)\n",
        "\n",
        "# Print the list of visited states\n",
        "print(states)\n"
      ],
      "metadata": {
        "id": "CCQx5YLMXHj5"
      },
      "execution_count": null,
      "outputs": []
    }
  ]
}